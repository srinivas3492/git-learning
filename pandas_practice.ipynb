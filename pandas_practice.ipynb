{
  "nbformat": 4,
  "nbformat_minor": 0,
  "metadata": {
    "colab": {
      "name": "pandas practice.ipynb",
      "provenance": [],
      "mount_file_id": "1jCuZ5aC2ktgWVW50XYTRP2UB3jZ43H3k",
      "authorship_tag": "ABX9TyOnu4q5KbrxLShxEsSBYY9R",
      "include_colab_link": true
    },
    "kernelspec": {
      "name": "python3",
      "display_name": "Python 3"
    },
    "language_info": {
      "name": "python"
    },
    "accelerator": "GPU"
  },
  "cells": [
    {
      "cell_type": "markdown",
      "metadata": {
        "id": "view-in-github",
        "colab_type": "text"
      },
      "source": [
        "<a href=\"https://colab.research.google.com/github/srinivas3492/git-learning/blob/main/pandas_practice.ipynb\" target=\"_parent\"><img src=\"https://colab.research.google.com/assets/colab-badge.svg\" alt=\"Open In Colab\"/></a>"
      ]
    },
    {
      "cell_type": "code",
      "execution_count": null,
      "metadata": {
        "colab": {
          "base_uri": "https://localhost:8080/"
        },
        "id": "VLWzypizasCt",
        "outputId": "4bae3dbe-8da2-458b-ee9e-fe5a7d0d9d40"
      },
      "outputs": [
        {
          "output_type": "stream",
          "name": "stdout",
          "text": [
            "Cloning into 'py'...\n",
            "remote: Enumerating objects: 2873, done.\u001b[K\n",
            "remote: Counting objects: 100% (72/72), done.\u001b[K\n",
            "remote: Compressing objects: 100% (53/53), done.\u001b[K\n",
            "remote: Total 2873 (delta 33), reused 52 (delta 18), pack-reused 2801\u001b[K\n",
            "Receiving objects: 100% (2873/2873), 196.64 MiB | 42.40 MiB/s, done.\n",
            "Resolving deltas: 100% (1112/1112), done.\n",
            "Checking out files: 100% (1388/1388), done.\n"
          ]
        }
      ],
      "source": [
        "! git clone https://github.com/codebasics/py.git"
      ]
    },
    {
      "cell_type": "code",
      "source": [
        "! gdown --id https://docs.google.com/spreadsheets/d/1n8zT0DcvFfIHLR9oCvUPS8nti325ujrA/edit?usp=sharing&ouid=101461445120456574651&rtpof=true&sd=true"
      ],
      "metadata": {
        "colab": {
          "base_uri": "https://localhost:8080/"
        },
        "id": "8WpFFDtEbvVV",
        "outputId": "d25249b9-10ee-4c0c-f797-69e1ea8f976b"
      },
      "execution_count": null,
      "outputs": [
        {
          "output_type": "stream",
          "name": "stdout",
          "text": [
            "Access denied with the following error:\n",
            "\n",
            " \tCannot retrieve the public link of the file. You may need to change\n",
            "\tthe permission to 'Anyone with the link', or have had many accesses. \n",
            "\n",
            "You may still be able to access the file from the browser:\n",
            "\n",
            "\t https://drive.google.com/uc?id=https://docs.google.com/spreadsheets/d/1n8zT0DcvFfIHLR9oCvUPS8nti325ujrA/edit?usp=sharing \n",
            "\n"
          ]
        }
      ]
    }
  ]
}